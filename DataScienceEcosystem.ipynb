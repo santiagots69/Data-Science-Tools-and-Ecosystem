{
 "cells": [
  {
   "cell_type": "markdown",
   "id": "e2279c78-bc87-48f1-9691-4a6c8ca70b9e",
   "metadata": {},
   "source": [
    "# Data Science Tools and Ecosystem"
   ]
  },
  {
   "cell_type": "markdown",
   "id": "80da9d95-4dfd-483b-b07a-706bb1e079a9",
   "metadata": {},
   "source": [
    "In this Notebook, Data science tools and ecosystem are summarized"
   ]
  },
  {
   "cell_type": "markdown",
   "id": "5d55354f-91ee-4b42-8bce-f572dd4b2163",
   "metadata": {},
   "source": [
    "**Objetives:**\n",
    "\n",
    "* List popular languages for Data Science.\n",
    "* List commonly libraries used by Data Scientist.\n",
    "* LIst commonly development environment open source tools used in data science.\n",
    "* Show a few Examples of arithmetics expressions using Python\n"
   ]
  },
  {
   "cell_type": "markdown",
   "id": "8c1156fd-d55e-4619-9e82-aed7a6bf34f3",
   "metadata": {},
   "source": [
    "Some of the popular languages that Data Scientist use are:\n",
    "\n",
    "1. Python\n",
    "2. R\n",
    "3. SQL\n",
    "4. Java\n",
    "5. Julia"
   ]
  },
  {
   "cell_type": "markdown",
   "id": "6806f5d9-91b5-4468-a9ce-241da2fd2a82",
   "metadata": {},
   "source": [
    "Some of the commonly used libraries by Data Scientist include:\n",
    "\n",
    "1. Pandas\n",
    "2. Matplotlib\n",
    "3. NumPy\n",
    "4. Seaborn\n",
    "5. Scikit-learn"
   ]
  },
  {
   "cell_type": "markdown",
   "id": "fdccd38b-ef2a-49c5-9149-c367b7a6c38f",
   "metadata": {},
   "source": [
    "| Data Science Tools |\n",
    "| ------------------ |\n",
    "|  Jupyter Notebook  |\n",
    "|     RStudio        |\n",
    "|      Spyder        |\n",
    "|      VScode        |"
   ]
  },
  {
   "cell_type": "markdown",
   "id": "e0749a8d-e84e-493f-b0ea-090dcd339edb",
   "metadata": {},
   "source": [
    "### Below are few examples of evaluating arithmetic expressions in Python"
   ]
  },
  {
   "cell_type": "markdown",
   "id": "0777e1b5-76b4-4c95-b89e-685fd2f974be",
   "metadata": {},
   "source": [
    "This is an simple arithmetic expression to multiply then add integers"
   ]
  },
  {
   "cell_type": "code",
   "execution_count": 1,
   "id": "058c7d4c-0f20-4782-b99e-40a6f1b4272c",
   "metadata": {},
   "outputs": [
    {
     "data": {
      "text/plain": [
       "17"
      ]
     },
     "execution_count": 1,
     "metadata": {},
     "output_type": "execute_result"
    }
   ],
   "source": [
    "(3*4)+5"
   ]
  },
  {
   "cell_type": "markdown",
   "id": "afcededd-7a6d-448d-9b5c-61f9e8784e1a",
   "metadata": {},
   "source": [
    "This will convert 200 minutes to hours by dividing by 60"
   ]
  },
  {
   "cell_type": "code",
   "execution_count": 4,
   "id": "e1989625-a37c-412b-8d0b-3cfe4a2b6863",
   "metadata": {},
   "outputs": [
    {
     "name": "stdout",
     "output_type": "stream",
     "text": [
      "200 minutes are 3.3333333333333335 Hours\n"
     ]
    }
   ],
   "source": [
    "m = 200\n",
    "h = 200/60\n",
    "print( m, \"minutes are\" , h , \"Hours\")"
   ]
  },
  {
   "cell_type": "markdown",
   "id": "a04bb999-db45-492a-967a-cd6c3b356aef",
   "metadata": {},
   "source": [
    "## Author\n",
    "Santiago Vega"
   ]
  },
  {
   "cell_type": "code",
   "execution_count": null,
   "id": "d33677b4-d5e3-4145-8e64-807a6fe83ec6",
   "metadata": {},
   "outputs": [],
   "source": []
  }
 ],
 "metadata": {
  "kernelspec": {
   "display_name": "Python 3 (ipykernel)",
   "language": "python",
   "name": "python3"
  },
  "language_info": {
   "codemirror_mode": {
    "name": "ipython",
    "version": 3
   },
   "file_extension": ".py",
   "mimetype": "text/x-python",
   "name": "python",
   "nbconvert_exporter": "python",
   "pygments_lexer": "ipython3",
   "version": "3.11.7"
  }
 },
 "nbformat": 4,
 "nbformat_minor": 5
}
